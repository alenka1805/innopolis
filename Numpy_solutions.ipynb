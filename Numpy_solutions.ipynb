{
  "nbformat": 4,
  "nbformat_minor": 0,
  "metadata": {
    "colab": {
      "provenance": [],
      "collapsed_sections": []
    },
    "kernelspec": {
      "name": "python3",
      "display_name": "Python 3"
    },
    "language_info": {
      "name": "python"
    }
  },
  "cells": [
    {
      "cell_type": "markdown",
      "source": [
        "**Промежуточная аттестация**"
      ],
      "metadata": {
        "id": "KIQrjaKJ-koY"
      }
    },
    {
      "cell_type": "markdown",
      "source": [
        "a. Импортируйте библиотеку NumPy\n",
        "\n",
        "b. Создайте массив из 10 нулей\n",
        "\n",
        "**РЕШЕНО**"
      ],
      "metadata": {
        "id": "gl8wHJ2D-w36"
      }
    },
    {
      "cell_type": "code",
      "source": [
        "import numpy as np\n",
        "\n",
        "a=np.zeros(10)\n",
        "print(a)"
      ],
      "metadata": {
        "colab": {
          "base_uri": "https://localhost:8080/"
        },
        "id": "Se54-y8L-2Wl",
        "outputId": "ed02b30e-bd58-4529-ad02-f8dc7b914aef"
      },
      "execution_count": null,
      "outputs": [
        {
          "output_type": "stream",
          "name": "stdout",
          "text": [
            "[0. 0. 0. 0. 0. 0. 0. 0. 0. 0.]\n"
          ]
        }
      ]
    },
    {
      "cell_type": "markdown",
      "source": [
        "c.Создать массив из 10 единиц\n",
        "\n",
        "**РЕШЕНО**\n",
        "\n",
        "\n",
        "\n"
      ],
      "metadata": {
        "id": "SHE7o3rU_C4u"
      }
    },
    {
      "cell_type": "code",
      "source": [
        "a=np.ones(10)\n",
        "print(a)"
      ],
      "metadata": {
        "colab": {
          "base_uri": "https://localhost:8080/"
        },
        "id": "KC2ScSSo_HO-",
        "outputId": "8bb976b4-7ae0-4530-e766-74af58120f51"
      },
      "execution_count": null,
      "outputs": [
        {
          "output_type": "stream",
          "name": "stdout",
          "text": [
            "[1. 1. 1. 1. 1. 1. 1. 1. 1. 1.]\n"
          ]
        }
      ]
    },
    {
      "cell_type": "markdown",
      "source": [
        "d.Создать массив из 10 пятерок\n",
        "\n",
        "**РЕШЕНО**\n",
        "\n"
      ],
      "metadata": {
        "id": "x878F5nm_HmB"
      }
    },
    {
      "cell_type": "code",
      "source": [
        "a=np.full(10,5)\n",
        "print(a)"
      ],
      "metadata": {
        "colab": {
          "base_uri": "https://localhost:8080/"
        },
        "id": "Gn6cF37v_LU5",
        "outputId": "393c2288-dfb7-421b-bc50-4dcead9a7585"
      },
      "execution_count": null,
      "outputs": [
        {
          "output_type": "stream",
          "name": "stdout",
          "text": [
            "[5 5 5 5 5 5 5 5 5 5]\n"
          ]
        }
      ]
    },
    {
      "cell_type": "markdown",
      "source": [
        "e.Создать массив из целых чисел от 10 до 50\n",
        "\n",
        "**РЕШЕНО**"
      ],
      "metadata": {
        "id": "PNneEZf1_LdA"
      }
    },
    {
      "cell_type": "code",
      "source": [
        "a = np.arange(10,51)\n",
        "print(a)"
      ],
      "metadata": {
        "colab": {
          "base_uri": "https://localhost:8080/"
        },
        "id": "kgt23qab_NqK",
        "outputId": "b78dc5d9-a9a5-49dd-b56c-df3a60cd870a"
      },
      "execution_count": null,
      "outputs": [
        {
          "output_type": "stream",
          "name": "stdout",
          "text": [
            "[10 11 12 13 14 15 16 17 18 19 20 21 22 23 24 25 26 27 28 29 30 31 32 33\n",
            " 34 35 36 37 38 39 40 41 42 43 44 45 46 47 48 49 50]\n"
          ]
        }
      ]
    },
    {
      "cell_type": "markdown",
      "source": [
        "f.Создать массив из четных чисел от 10 до 50\n",
        "\n",
        "**РЕШЕНО**"
      ],
      "metadata": {
        "id": "nu023I6Y_N0L"
      }
    },
    {
      "cell_type": "code",
      "source": [
        "a = np.arange(10,51,2)\n",
        "print(a)"
      ],
      "metadata": {
        "colab": {
          "base_uri": "https://localhost:8080/"
        },
        "id": "gjlHLOha_Q-u",
        "outputId": "f95d1df0-600f-45e0-8485-fe152e21f673"
      },
      "execution_count": null,
      "outputs": [
        {
          "output_type": "stream",
          "name": "stdout",
          "text": [
            "[10 12 14 16 18 20 22 24 26 28 30 32 34 36 38 40 42 44 46 48 50]\n"
          ]
        }
      ]
    },
    {
      "cell_type": "markdown",
      "source": [
        "g.Создать матрицу 3х3 с числами от 0 до 8\n",
        "\n",
        "**РЕШЕНО**\n",
        "\n"
      ],
      "metadata": {
        "id": "fRG4qMap_RF9"
      }
    },
    {
      "cell_type": "code",
      "source": [
        "a = np.arange(9).reshape(3,3)\n",
        "print(a)"
      ],
      "metadata": {
        "colab": {
          "base_uri": "https://localhost:8080/"
        },
        "id": "MO9nYjb2_Uc1",
        "outputId": "f773c963-058b-41e2-ca35-f30df5ac31a3"
      },
      "execution_count": null,
      "outputs": [
        {
          "output_type": "stream",
          "name": "stdout",
          "text": [
            "[[0 1 2]\n",
            " [3 4 5]\n",
            " [6 7 8]]\n"
          ]
        }
      ]
    },
    {
      "cell_type": "markdown",
      "source": [
        "h.Создать единичную матрицу 3x3\n",
        "\n",
        "**РЕШЕНО**"
      ],
      "metadata": {
        "id": "V2YwOihB_Ujz"
      }
    },
    {
      "cell_type": "code",
      "source": [
        "a = np.eye(3)\n",
        "print(a)"
      ],
      "metadata": {
        "colab": {
          "base_uri": "https://localhost:8080/"
        },
        "id": "n9ydhh8o_XK7",
        "outputId": "c377b22f-31c9-4f05-a4fc-b835fc639b14"
      },
      "execution_count": null,
      "outputs": [
        {
          "output_type": "stream",
          "name": "stdout",
          "text": [
            "[[1. 0. 0.]\n",
            " [0. 1. 0.]\n",
            " [0. 0. 1.]]\n"
          ]
        }
      ]
    },
    {
      "cell_type": "markdown",
      "source": [
        "i.Используйте NumPy для генерации случайного числа от 0 до 1\n",
        "\n",
        "**РЕШЕНО**"
      ],
      "metadata": {
        "id": "srbFB4sy_XX_"
      }
    },
    {
      "cell_type": "code",
      "source": [
        "a = np.random.rand()\n",
        "print(a)"
      ],
      "metadata": {
        "colab": {
          "base_uri": "https://localhost:8080/"
        },
        "id": "KSx3Yli6_cFj",
        "outputId": "bf2a8b0f-46ae-4123-c5f4-026ff3d49dd6"
      },
      "execution_count": null,
      "outputs": [
        {
          "output_type": "stream",
          "name": "stdout",
          "text": [
            "0.9815671996653289\n"
          ]
        }
      ]
    },
    {
      "cell_type": "markdown",
      "source": [
        "j.Используйте NumPy для генерации массива из 25 случайных чисел, взятых из стандартного нормального распределения\n",
        "\n",
        "**РЕШЕНО**"
      ],
      "metadata": {
        "id": "LZZBqsSr_cMg"
      }
    },
    {
      "cell_type": "code",
      "source": [
        "a = np.random.randn(25)\n",
        "print(a)"
      ],
      "metadata": {
        "colab": {
          "base_uri": "https://localhost:8080/"
        },
        "id": "3pdl13zq_gvX",
        "outputId": "565ac60a-564c-407e-c3a9-95305ede9012"
      },
      "execution_count": null,
      "outputs": [
        {
          "output_type": "stream",
          "name": "stdout",
          "text": [
            "[-0.1490964  -0.52944866  0.71802936  0.07266514  1.85657345  0.19451361\n",
            "  0.65887612 -0.51398746 -1.60584619  0.31105244  0.93751183 -0.53115219\n",
            " -1.02265301 -0.32056171 -0.06113042  1.17939307  0.67940306 -0.74569905\n",
            "  0.52732363  0.01788234  0.1529132   1.64828386  1.68638803  0.64127685\n",
            " -1.11286538]\n"
          ]
        }
      ]
    },
    {
      "cell_type": "markdown",
      "source": [
        "k.Создайте следующую матрицу, используя функции библиотеки NumPy:\n",
        "Матрица 10*10, значения от 0,01 до 1 с шагом 0,01\n",
        "\n",
        "**РЕШЕНО**"
      ],
      "metadata": {
        "id": "9tNOOuuo_hON"
      }
    },
    {
      "cell_type": "code",
      "source": [
        "a = np.linspace(0.01,1,100).reshape(10,10)\n",
        "print (a)"
      ],
      "metadata": {
        "colab": {
          "base_uri": "https://localhost:8080/"
        },
        "id": "b6dNaMQS_7RU",
        "outputId": "eba9b51f-6c59-435b-f943-ff63569eaa9f"
      },
      "execution_count": null,
      "outputs": [
        {
          "output_type": "stream",
          "name": "stdout",
          "text": [
            "[[0.01 0.02 0.03 0.04 0.05 0.06 0.07 0.08 0.09 0.1 ]\n",
            " [0.11 0.12 0.13 0.14 0.15 0.16 0.17 0.18 0.19 0.2 ]\n",
            " [0.21 0.22 0.23 0.24 0.25 0.26 0.27 0.28 0.29 0.3 ]\n",
            " [0.31 0.32 0.33 0.34 0.35 0.36 0.37 0.38 0.39 0.4 ]\n",
            " [0.41 0.42 0.43 0.44 0.45 0.46 0.47 0.48 0.49 0.5 ]\n",
            " [0.51 0.52 0.53 0.54 0.55 0.56 0.57 0.58 0.59 0.6 ]\n",
            " [0.61 0.62 0.63 0.64 0.65 0.66 0.67 0.68 0.69 0.7 ]\n",
            " [0.71 0.72 0.73 0.74 0.75 0.76 0.77 0.78 0.79 0.8 ]\n",
            " [0.81 0.82 0.83 0.84 0.85 0.86 0.87 0.88 0.89 0.9 ]\n",
            " [0.91 0.92 0.93 0.94 0.95 0.96 0.97 0.98 0.99 1.  ]]\n"
          ]
        }
      ]
    },
    {
      "cell_type": "markdown",
      "source": [
        "l.Дана стартовая матрица (обязательно запустите код ниже в вашем решении!). Эта матрица будет использоваться в последующих задачах\n",
        "\n",
        "\\#это наша стартовая матрица\n",
        "\n",
        "mat = np.arange(1,26).reshape(5,5)\n",
        "\n",
        "print(mat)\n",
        "\n",
        "Необходимо написать код, который вернет следующую матрицу из стартовой:\n",
        "![матрица.png](data:image/png;base64,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)\n",
        "\n",
        "**РЕШЕНО**"
      ],
      "metadata": {
        "id": "Legle5va_7p4"
      }
    },
    {
      "cell_type": "code",
      "source": [
        "mat = np.arange(1,26).reshape(5,5)\n",
        "print(mat)"
      ],
      "metadata": {
        "colab": {
          "base_uri": "https://localhost:8080/"
        },
        "id": "gYHRRrlJcZM1",
        "outputId": "6f6ba3be-517b-4cda-ac82-283bb6632de8"
      },
      "execution_count": null,
      "outputs": [
        {
          "output_type": "stream",
          "name": "stdout",
          "text": [
            "[[ 1  2  3  4  5]\n",
            " [ 6  7  8  9 10]\n",
            " [11 12 13 14 15]\n",
            " [16 17 18 19 20]\n",
            " [21 22 23 24 25]]\n"
          ]
        }
      ]
    },
    {
      "cell_type": "code",
      "source": [
        "a=mat[2:,1:]\n",
        "print(\"array(\",a,')')"
      ],
      "metadata": {
        "colab": {
          "base_uri": "https://localhost:8080/"
        },
        "id": "BLqTl8UJAr6M",
        "outputId": "c65395c1-e109-4365-9d3f-23f0b8f35a08"
      },
      "execution_count": null,
      "outputs": [
        {
          "output_type": "stream",
          "name": "stdout",
          "text": [
            "array( [[12 13 14 15]\n",
            " [17 18 19 20]\n",
            " [22 23 24 25]] )\n"
          ]
        }
      ]
    },
    {
      "cell_type": "markdown",
      "source": [
        "m. Написать код обращения к элементу, который вернет значение  20 из стартовой матрицы задачи l.\n",
        "\n",
        "**РЕШЕНО**"
      ],
      "metadata": {
        "id": "QsNn7Tr3AsH9"
      }
    },
    {
      "cell_type": "code",
      "source": [
        "a = mat[3][4]\n",
        "print(a)"
      ],
      "metadata": {
        "colab": {
          "base_uri": "https://localhost:8080/"
        },
        "id": "jn31dz96Awdv",
        "outputId": "06249945-4f29-4b86-ccde-dedb701dd828"
      },
      "execution_count": null,
      "outputs": [
        {
          "output_type": "stream",
          "name": "stdout",
          "text": [
            "20\n"
          ]
        }
      ]
    },
    {
      "cell_type": "markdown",
      "source": [
        "n.Написать код к стартовой матрице задачи l, который воспроизводит вывод, показанный ниже\n",
        "\n",
        "array([[2],\n",
        "\n",
        "        [7],\n",
        "\n",
        "        [12]])\n",
        "\n",
        "**РЕШЕНО**"
      ],
      "metadata": {
        "id": "zzzn8gNNAwj5"
      }
    },
    {
      "cell_type": "code",
      "source": [
        "a = mat[0:3,1].reshape(3,1)\n",
        "print(\"array(\",a,')')"
      ],
      "metadata": {
        "colab": {
          "base_uri": "https://localhost:8080/"
        },
        "id": "P5KZVFLfBFsF",
        "outputId": "e5466012-f87b-449d-8b1d-78b1e889bea7"
      },
      "execution_count": null,
      "outputs": [
        {
          "output_type": "stream",
          "name": "stdout",
          "text": [
            "array( [[ 2]\n",
            " [ 7]\n",
            " [12]] )\n"
          ]
        }
      ]
    },
    {
      "cell_type": "markdown",
      "source": [
        "o.Написать код к стартовой матрице задачи l , который воспроизводит вывод, показанный ниже\n",
        "\n",
        "array([21,22,23,24,25])\n",
        "\n",
        "**РЕШЕНО**"
      ],
      "metadata": {
        "id": "fYLJ4cevBFyu"
      }
    },
    {
      "cell_type": "code",
      "source": [
        "a =mat[4,:]\n",
        "print(\"array(\",a,')')"
      ],
      "metadata": {
        "colab": {
          "base_uri": "https://localhost:8080/"
        },
        "id": "Drlne4bHBQOo",
        "outputId": "5cef8eb6-5a11-4459-a7af-498c0d5cbbbd"
      },
      "execution_count": null,
      "outputs": [
        {
          "output_type": "stream",
          "name": "stdout",
          "text": [
            "array( [21 22 23 24 25] )\n"
          ]
        }
      ]
    },
    {
      "cell_type": "markdown",
      "source": [
        "p.Написать код к стартовой матрице задачи l , который воспроизводит вывод, показанный ниже\n",
        "\n",
        "array([[16,17,18,19,20],\n",
        "\n",
        "      [21,22,24,25}]])\n",
        "\n",
        "**РЕШЕНО**"
      ],
      "metadata": {
        "id": "iSSoqjC0BQVr"
      }
    },
    {
      "cell_type": "code",
      "source": [
        "a =mat[3:5,:]\n",
        "print(\"array(\",a,')')"
      ],
      "metadata": {
        "colab": {
          "base_uri": "https://localhost:8080/"
        },
        "id": "QRJAFnfDBgPo",
        "outputId": "570fb810-cbe1-434e-8b62-6eb8da25a81a"
      },
      "execution_count": null,
      "outputs": [
        {
          "output_type": "stream",
          "name": "stdout",
          "text": [
            "array( [[16 17 18 19 20]\n",
            " [21 22 23 24 25]] )\n"
          ]
        }
      ]
    },
    {
      "cell_type": "markdown",
      "source": [
        "q.Получить сумму всех значений в стартовой матрице mat\n",
        "\n",
        "**РЕШЕНО**"
      ],
      "metadata": {
        "id": "0mbG011FBgdf"
      }
    },
    {
      "cell_type": "code",
      "source": [
        "a = mat.sum()\n",
        "print(\"Сумма все значений в стартовой матрице:\", a)"
      ],
      "metadata": {
        "colab": {
          "base_uri": "https://localhost:8080/"
        },
        "id": "H8sVt_JbBg9q",
        "outputId": "43a1e3e1-298a-4ea9-8db3-be0786df1554"
      },
      "execution_count": null,
      "outputs": [
        {
          "output_type": "stream",
          "name": "stdout",
          "text": [
            "Сумма все значений в стартовой матрице: 325\n"
          ]
        }
      ]
    },
    {
      "cell_type": "markdown",
      "source": [
        "r.Получить стандартное отклонение в стартовой матрице mat:\n",
        "\n",
        "**РЕШЕНО**"
      ],
      "metadata": {
        "id": "VNU3n5k9BhHG"
      }
    },
    {
      "cell_type": "code",
      "source": [],
      "metadata": {
        "id": "8A6i_Gasz3Q_"
      },
      "execution_count": null,
      "outputs": []
    },
    {
      "cell_type": "code",
      "source": [
        "a = mat.std()\n",
        "print(\"Стандартное отклонение в стартовой матрице:\", a)"
      ],
      "metadata": {
        "colab": {
          "base_uri": "https://localhost:8080/"
        },
        "id": "EwisOz3bBj9h",
        "outputId": "88ddf138-3f93-488a-88af-d26659ee874f"
      },
      "execution_count": null,
      "outputs": [
        {
          "output_type": "stream",
          "name": "stdout",
          "text": [
            "Стандартное отклонение в стартовой матрице: 7.211102550927978\n"
          ]
        }
      ]
    },
    {
      "cell_type": "markdown",
      "source": [
        "s.Получить сумму значений в колонках в стартовой матрице mat\n",
        "\n",
        "**РЕШЕНО**"
      ],
      "metadata": {
        "id": "_wML9k8XBkE9"
      }
    },
    {
      "cell_type": "code",
      "source": [
        "print (mat.sum(axis=1))"
      ],
      "metadata": {
        "colab": {
          "base_uri": "https://localhost:8080/"
        },
        "id": "V8q6TZ3XBnEL",
        "outputId": "727712f5-2d0a-483a-f367-996a56563c0b"
      },
      "execution_count": null,
      "outputs": [
        {
          "output_type": "stream",
          "name": "stdout",
          "text": [
            "[ 15  40  65  90 115]\n"
          ]
        }
      ]
    },
    {
      "cell_type": "markdown",
      "source": [],
      "metadata": {
        "id": "x9r6ZVII-pQA"
      }
    }
  ]
}